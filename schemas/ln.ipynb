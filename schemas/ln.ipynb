{
 "cells": [
  {
   "cell_type": "code",
   "execution_count": 1,
   "metadata": {},
   "outputs": [
    {
     "name": "stdout",
     "output_type": "stream",
     "text": [
      "\n",
      "Hello world! Starting to learn about machine learning.\n"
     ]
    }
   ],
   "source": [
    "print(\"\\nHello world! Starting to learn about machine learning.\")\n",
    "## 00. Learning About Machine Learning\n"
   ]
  },
  {
   "attachments": {},
   "cell_type": "markdown",
   "metadata": {},
   "source": [
    "# Licensed under the Apache License, Version 2.0 (the \"License\");\n",
    "## you may not use this file except in compliance with the License.\n",
    "\n",
    "# Let's create a new model with pytorch\n"
   ]
  }
 ],
 "metadata": {
  "kernelspec": {
   "display_name": "fst",
   "language": "python",
   "name": "python3"
  },
  "language_info": {
   "codemirror_mode": {
    "name": "ipython",
    "version": 3
   },
   "file_extension": ".py",
   "mimetype": "text/x-python",
   "name": "python",
   "nbconvert_exporter": "python",
   "pygments_lexer": "ipython3",
   "version": "3.10.6"
  },
  "orig_nbformat": 4,
  "vscode": {
   "interpreter": {
    "hash": "aa755783b5f7abcb05141af61cb4102b4923686fa1dc201a3b36ce6ebbaa52d1"
   }
  }
 },
 "nbformat": 4,
 "nbformat_minor": 2
}
